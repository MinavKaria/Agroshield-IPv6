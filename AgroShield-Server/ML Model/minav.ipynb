{
 "cells": [
  {
   "cell_type": "code",
   "execution_count": 2,
   "metadata": {},
   "outputs": [
    {
     "name": "stdout",
     "output_type": "stream",
     "text": [
      "WARNING:tensorflow:From c:\\Users\\mkkar\\AppData\\Local\\Programs\\Python\\Python312\\Lib\\site-packages\\tf_keras\\src\\losses.py:2976: The name tf.losses.sparse_softmax_cross_entropy is deprecated. Please use tf.compat.v1.losses.sparse_softmax_cross_entropy instead.\n",
      "\n",
      "WARNING:tensorflow:From c:\\Users\\mkkar\\AppData\\Local\\Programs\\Python\\Python312\\Lib\\site-packages\\tensorflow_hub\\resolver.py:120: The name tf.gfile.MakeDirs is deprecated. Please use tf.io.gfile.makedirs instead.\n",
      "\n"
     ]
    },
    {
     "name": "stderr",
     "output_type": "stream",
     "text": [
      "WARNING:tensorflow:From c:\\Users\\mkkar\\AppData\\Local\\Programs\\Python\\Python312\\Lib\\site-packages\\tensorflow_hub\\resolver.py:120: The name tf.gfile.MakeDirs is deprecated. Please use tf.io.gfile.makedirs instead.\n",
      "\n"
     ]
    },
    {
     "name": "stdout",
     "output_type": "stream",
     "text": [
      "WARNING:tensorflow:From c:\\Users\\mkkar\\AppData\\Local\\Programs\\Python\\Python312\\Lib\\site-packages\\tensorflow_hub\\module_v2.py:126: The name tf.saved_model.load_v2 is deprecated. Please use tf.compat.v2.saved_model.load instead.\n",
      "\n"
     ]
    },
    {
     "name": "stderr",
     "output_type": "stream",
     "text": [
      "WARNING:tensorflow:From c:\\Users\\mkkar\\AppData\\Local\\Programs\\Python\\Python312\\Lib\\site-packages\\tensorflow_hub\\module_v2.py:126: The name tf.saved_model.load_v2 is deprecated. Please use tf.compat.v2.saved_model.load instead.\n",
      "\n"
     ]
    }
   ],
   "source": [
    "import tensorflow_hub as hub\n",
    "model = hub.load(\"https://www.kaggle.com/models/rishitdagli/plant-disease/TensorFlow2/plant-disease/1\")"
   ]
  },
  {
   "cell_type": "code",
   "execution_count": 6,
   "metadata": {},
   "outputs": [
    {
     "name": "stdout",
     "output_type": "stream",
     "text": [
      "Model loaded successfully.\n",
      "Predictions: [[2.51720281e-04 3.43290134e-03 5.94780067e-05 1.89191574e-09\n",
      "  2.39265802e-10 9.24973542e-10 7.98447388e-07 4.14175111e-06\n",
      "  2.50231038e-04 1.61334959e-10 8.25886026e-11 2.29374878e-03\n",
      "  9.23828244e-01 1.29742911e-02 1.92630931e-03 1.05704733e-11\n",
      "  1.64448377e-09 3.48272700e-09 2.66024085e-06 1.18553105e-08\n",
      "  7.80313349e-06 3.66808639e-10 1.12619169e-07 1.28872786e-02\n",
      "  1.69486675e-10 2.03036270e-05 1.53040877e-02 2.03716848e-03\n",
      "  1.33145566e-03 4.42807213e-05 1.50923544e-04 5.67336429e-05\n",
      "  2.09458582e-02 7.28113081e-09 1.52673072e-03 1.37376219e-07\n",
      "  6.57859840e-04 4.60924412e-06]]\n",
      "12\n",
      "tf.Tensor(\n",
      "[2.51720281e-04 3.43290134e-03 5.94780067e-05 1.89191574e-09\n",
      " 2.39265802e-10 9.24973542e-10 7.98447388e-07 4.14175111e-06\n",
      " 2.50231038e-04 1.61334959e-10 8.25886026e-11 2.29374878e-03\n",
      " 9.23828244e-01 1.29742911e-02 1.92630931e-03 1.05704733e-11\n",
      " 1.64448377e-09 3.48272700e-09 2.66024085e-06 1.18553105e-08\n",
      " 7.80313349e-06 3.66808639e-10 1.12619169e-07 1.28872786e-02\n",
      " 1.69486675e-10 2.03036270e-05 1.53040877e-02 2.03716848e-03\n",
      " 1.33145566e-03 4.42807213e-05 1.50923544e-04 5.67336429e-05\n",
      " 2.09458582e-02 7.28113081e-09 1.52673072e-03 1.37376219e-07\n",
      " 6.57859840e-04 4.60924412e-06], shape=(38,), dtype=float32)\n",
      "Predicted class index: 12\n",
      "Predicted class label: Grape___Esca_(Black_Measles)\n",
      "Number of parameters in the model: 38950\n"
     ]
    }
   ],
   "source": [
    "import tensorflow as tf\n",
    "import tensorflow_hub as hub\n",
    "import numpy as np\n",
    "from PIL import Image\n",
    "import json\n",
    "import requests\n",
    "import os\n",
    "\n",
    "# Load the model from TensorFlow Hub\n",
    "model = hub.load(\"https://www.kaggle.com/models/rishitdagli/plant-disease/TensorFlow2/plant-disease/1\")\n",
    "print(\"Model loaded successfully.\")\n",
    "\n",
    "# Function to preprocess the image\n",
    "def preprocess_image(image_path):\n",
    "    if not os.path.exists(image_path):\n",
    "        raise FileNotFoundError(f\"Image file not found at path: {image_path}\")\n",
    "        \n",
    "    image = Image.open(image_path).convert('RGB').resize((224, 224))\n",
    "    image_array = np.array(image) / 255.0  # Normalize to [0, 1]\n",
    "    return tf.convert_to_tensor(np.expand_dims(image_array, axis=0), dtype=tf.float32)  # Convert to tf.Tensor of dtype float32\n",
    "\n",
    "# Download class indices JSON file\n",
    "class_indices_url = \"https://github.com/Rishit-dagli/Greenathon-Plant-AI/releases/download/v0.1.0/class_indices.json\"\n",
    "response = requests.get(class_indices_url)\n",
    "class_indices = response.json()\n",
    "\n",
    "# Convert the class indices to a mapping of {index: label}\n",
    "index_to_label = {int(key): value for key, value in class_indices.items()}\n",
    "\n",
    "# Replace with your correct image path\n",
    "image_path = './grape_unhealthy.jpg'  # Provide the correct path to your image file\n",
    "processed_image = preprocess_image(image_path)\n",
    "\n",
    "# Make predictions using the model\n",
    "predictions = model(processed_image)  # Directly pass the preprocessed image\n",
    "print(f\"Predictions: {predictions}\")\n",
    "\n",
    "predictions=predictions[0]\n",
    "pred_ind=tf.argmax(predictions).numpy()\n",
    "print(pred_ind)\n",
    "\n",
    "# Get the predicted class index\n",
    "# predicted_index = np.argmax(predictions, axis=-1).numpy()[0]  # Get the index with the highest probability\n",
    "\n",
    "print(predictions)\n",
    "print(f\"Predicted class index: {pred_ind}\")\n",
    "\n",
    "# Get the corresponding class label\n",
    "predicted_label = index_to_label[pred_ind]\n",
    "\n",
    "print(f\"Predicted class label: {predicted_label}\")\n",
    "\n",
    "# Calculate the number of parameters\n",
    "num_params = np.sum([np.prod(variable.shape) for variable in model.trainable_variables])\n",
    "print(f\"Number of parameters in the model: {num_params}\")\n",
    "\n"
   ]
  },
  {
   "cell_type": "code",
   "execution_count": null,
   "metadata": {},
   "outputs": [],
   "source": []
  }
 ],
 "metadata": {
  "kernelspec": {
   "display_name": "Python 3",
   "language": "python",
   "name": "python3"
  },
  "language_info": {
   "codemirror_mode": {
    "name": "ipython",
    "version": 3
   },
   "file_extension": ".py",
   "mimetype": "text/x-python",
   "name": "python",
   "nbconvert_exporter": "python",
   "pygments_lexer": "ipython3",
   "version": "3.12.4"
  }
 },
 "nbformat": 4,
 "nbformat_minor": 2
}
